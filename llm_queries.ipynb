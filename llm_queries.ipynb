{
  "nbformat": 4,
  "nbformat_minor": 0,
  "metadata": {
    "colab": {
      "provenance": []
    },
    "kernelspec": {
      "name": "python3",
      "display_name": "Python 3"
    },
    "language_info": {
      "name": "python"
    }
  },
  "cells": [
    {
      "cell_type": "markdown",
      "source": [
        "# LLM-Based Energy Data Analysis Notebook\n",
        "### Author: Shivam Pal\n",
        "### Date: 01/06/2025\n",
        "### Description: Energy consumption analysis using LLM-generated code"
      ],
      "metadata": {
        "id": "OoMuBE16ZOyC"
      }
    },
    {
      "cell_type": "code",
      "source": [
        "import pandas as pd\n",
        "import requests\n",
        "import json"
      ],
      "metadata": {
        "id": "Js_vewiVjdVp"
      },
      "execution_count": 148,
      "outputs": []
    },
    {
      "cell_type": "markdown",
      "source": [
        "**Mount Drive**"
      ],
      "metadata": {
        "id": "iYAaEGJwhf1Y"
      }
    },
    {
      "cell_type": "code",
      "source": [
        "from google.colab import drive\n",
        "drive.mount('/content/drive')"
      ],
      "metadata": {
        "id": "glOvAMPiHGx-",
        "colab": {
          "base_uri": "https://localhost:8080/"
        },
        "outputId": "9fa1f30e-45c4-4e32-cbd5-96196ad58f65"
      },
      "execution_count": 14,
      "outputs": [
        {
          "output_type": "stream",
          "name": "stdout",
          "text": [
            "Drive already mounted at /content/drive; to attempt to forcibly remount, call drive.mount(\"/content/drive\", force_remount=True).\n"
          ]
        }
      ]
    },
    {
      "cell_type": "markdown",
      "source": [
        "**Set Environment Varaible**"
      ],
      "metadata": {
        "id": "GZ2mkvsdh4P8"
      }
    },
    {
      "cell_type": "code",
      "source": [
        "GROQ_API_KEY = \"Your GROQ API KEY\" #@param {type:\"string\"}\n",
        "model = \"meta-llama/llama-4-scout-17b-16e-instruct\" #@param [\"meta-llama/llama-4-scout-17b-16e-instruct\", \"deepseek-r1-distill-llama-70b\",\"gemma2-9b-it\", \"compound-beta\" , \"meta-llama/llama-4-maverick-17b-128e-instruct\"]\n",
        "Dataset_FilePath = \"FilePath\" #@param {type:\"string\"}"
      ],
      "metadata": {
        "id": "fHv_TZg-ZDX5"
      },
      "execution_count": 157,
      "outputs": []
    },
    {
      "cell_type": "markdown",
      "source": [
        "**Load Dataset**"
      ],
      "metadata": {
        "id": "KSphXwFaiku8"
      }
    },
    {
      "cell_type": "code",
      "source": [
        "df = pd.read_csv(Dataset_FilePath,\n",
        "             \tsep=';',\n",
        "             \tparse_dates={'datetime': ['Date', 'Time']},\n",
        "             \tinfer_datetime_format=True,\n",
        "             \tna_values=['?'],\n",
        "             \tlow_memory=False)\n",
        "\n",
        "df = df.dropna()\n",
        "df['Global_active_power'] = df['Global_active_power'].astype(float)\n",
        "df = df.set_index('datetime')"
      ],
      "metadata": {
        "id": "doip0lVXigMd"
      },
      "execution_count": 152,
      "outputs": []
    },
    {
      "cell_type": "markdown",
      "source": [
        "**Class for LLM Inference**"
      ],
      "metadata": {
        "id": "pfbOX2n5iM0T"
      }
    },
    {
      "cell_type": "code",
      "source": [
        "class LLMInterface:\n",
        "    \"\"\"LLM interface for code generation\"\"\"\n",
        "\n",
        "    def __init__(self, api_key: str):\n",
        "        \"\"\"Initialize with Groq API key\"\"\"\n",
        "        self.api_key = api_key\n",
        "        self.base_url = \"https://api.groq.com/openai/v1/chat/completions\"\n",
        "\n",
        "    def generate_code(self, query: str, model: str = 'meta-llama/llama-4-scout-17b-16e-instruct', context: str = \"\") -> str:\n",
        "        \"\"\"Generate pandas code from natural language query\"\"\"\n",
        "\n",
        "        system_prompt = f\"\"\"You are an expert data scientist specializing in energy data analysis.\n",
        "        You will be given a natural language query about a pandas DataFrame named `df`.\n",
        "        Generate clean, efficient pandas (and matplotlib or seaborn if plotting is required) code to answer the query.\n",
        "        we have alrady loaded df and you have to only provide code to get output of query.\n",
        "\n",
        "        Dataset Metadata:\n",
        "        - Name: df\n",
        "        - Index: DatetimeIndex\n",
        "        - Range: 2006-12-16 17:24:00 to 2010-11-26 21:02:00\n",
        "        - Frequency: 1 min Interval\n",
        "        - Data columns (total 7 columns):\n",
        "          #   Column                 Dtype       Description\n",
        "          ---  ------                 -----\n",
        "          0   Global_active_power    float64     Household active power consumption (in kilowatt)\n",
        "          1   Global_reactive_power  float64     Reactive power (in kilowatt)\n",
        "          2   Voltage                float64     Average voltage (in volts)\n",
        "          3   Global_intensity       float64     Average current (in amperes)\n",
        "          4   Sub_metering_1         float64     Energy used in the kitchen (in watt-hours)\n",
        "          5   Sub_metering_2         float64     Energy used in the laundry room (in watt-hours)\n",
        "          6   Sub_metering_3         float64     Energy used for water heater and air conditioning (in watt-hours)\n",
        "        - Total Rows: 2049280 entries\n",
        "\n",
        "        Instructions:\n",
        "        - Do not modify, add, or delete any rows or columns in the original DataFrame 'df'.\n",
        "        - Parse the question and write precise pandas code that returns the final answer.\n",
        "        - Output should be minimal: only the final numerical/statistical result, table, or plot.\n",
        "        - Code must be syntactically correct and logically valid.\n",
        "        - Use datetime indexing, filtering, grouping, resampling, or aggregation where appropriate.\n",
        "        - Comment the code for clarity if multi-step logic is required.\n",
        "        - Output should be in a single Python code block.\n",
        "\n",
        "        {context}\n",
        "        \"\"\"\n",
        "\n",
        "        headers = {\n",
        "            \"Authorization\": f\"Bearer {self.api_key}\",\n",
        "            \"Content-Type\": \"application/json\"\n",
        "        }\n",
        "\n",
        "        payload = {\n",
        "            \"model\": model,\n",
        "            \"messages\": [\n",
        "                {\"role\": \"system\", \"content\": system_prompt},\n",
        "                {\"role\": \"user\", \"content\": f\"Query: {query}\"}\n",
        "            ],\n",
        "            \"temperature\": 0.1,\n",
        "            \"max_tokens\": 1000\n",
        "        }\n",
        "\n",
        "        try:\n",
        "            response = requests.post(self.base_url, json=payload, headers=headers)\n",
        "            response.raise_for_status()\n",
        "\n",
        "            result = response.json()\n",
        "            code = result['choices'][0]['message']['content']\n",
        "\n",
        "            # Clean the code (remove markdown formatting if present)\n",
        "            if '```python' in code:\n",
        "                code = code.split('```python')[1].split('```')[0]\n",
        "            elif '```' in code:\n",
        "                code = code.split('```')[1].split('```')[0]\n",
        "\n",
        "            return code.strip()\n",
        "\n",
        "        except Exception as e:\n",
        "            print(f\"Error generating code: {str(e)}\")\n",
        "            return f\"Error: Could not generate code for query: {query}\"\n",
        "\n",
        "llm = LLMInterface(GROQ_API_KEY)"
      ],
      "metadata": {
        "id": "W4sNQBcHZkHW"
      },
      "execution_count": 153,
      "outputs": []
    },
    {
      "cell_type": "markdown",
      "source": [
        "Function to Execute LLM Generated Code"
      ],
      "metadata": {
        "id": "KUxSrHro2lhm"
      }
    },
    {
      "cell_type": "code",
      "source": [
        "def execute_code(query):\n",
        "  \"\"\"Execute LLM Generated Code\"\"\"\n",
        "\n",
        "  generated_code = llm.generate_code(query, model=model)\n",
        "\n",
        "  print(f\"Generated Code:\\n{generated_code}\\n\\nOutput:\\n\")\n",
        "\n",
        "  try:\n",
        "    exec(generated_code)\n",
        "  except Exception as e:\n",
        "    print(f\"Error executing code: {str(e)}\")"
      ],
      "metadata": {
        "id": "-90DrXTLybgj"
      },
      "execution_count": 154,
      "outputs": []
    },
    {
      "cell_type": "markdown",
      "source": [
        "1. What was the average active power consumption in March 2007?\n",
        "2. What hour of the day had the highest power usage on Christmas 2006?\n",
        "3. Compare energy usage (Global_active_power) on weekdays vs weekends.\n",
        "4. Find days where energy consumption exceeded 5 kWh.\n",
        "5. Plot the energy usage trend for the first week of January 2007.\n",
        "6. Find the average voltage for each day of the first week of February 2007.\n",
        "7. What is the correlation between global active power and sub-metering values?"
      ],
      "metadata": {
        "id": "asTYUABRxygf"
      }
    },
    {
      "cell_type": "code",
      "source": [
        "query=\"Find the average voltage for each day of the first week of February 2007.\"  #@param {type: \"string\"}\n",
        "execute_code(query)"
      ],
      "metadata": {
        "colab": {
          "base_uri": "https://localhost:8080/"
        },
        "id": "fJLZx6t-aW78",
        "outputId": "9ac0b753-723f-4a49-92a3-99d35da3730c"
      },
      "execution_count": 156,
      "outputs": [
        {
          "output_type": "stream",
          "name": "stdout",
          "text": [
            "Generated Code:\n",
            "# Filter data for February 2007\n",
            "feb_2007 = df[(df.index >= '2007-02-01') & (df.index < '2007-03-01')]\n",
            "\n",
            "# Filter data for the first week of February 2007\n",
            "first_week_feb_2007 = feb_2007[(feb_2007.index.dayofweek < 7) & (feb_2007.index.day <= 7)]\n",
            "\n",
            "# Group by day and calculate average voltage\n",
            "avg_voltage_per_day = first_week_feb_2007['Voltage'].resample('D').mean()\n",
            "\n",
            "print(avg_voltage_per_day)\n",
            "\n",
            "Output:\n",
            "\n",
            "datetime\n",
            "2007-02-01    240.392139\n",
            "2007-02-02    240.334389\n",
            "2007-02-03    238.910194\n",
            "2007-02-04    239.633333\n",
            "2007-02-05    240.810312\n",
            "2007-02-06    241.264160\n",
            "2007-02-07    241.149694\n",
            "Freq: D, Name: Voltage, dtype: float64\n"
          ]
        }
      ]
    },
    {
      "cell_type": "markdown",
      "source": [
        "# Thank You"
      ],
      "metadata": {
        "id": "wbgmEiPcAs4W"
      }
    }
  ]
}